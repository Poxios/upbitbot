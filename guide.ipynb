{
 "cells": [
  {
   "cell_type": "markdown",
   "metadata": {},
   "source": [
    "= 학습 목표\n",
    "\n",
    "0. 준비물\n",
    "    0.1 파이썬 에디터 (PyCharm, Anaconda)\n",
    "1. 기초\n",
    "    1.1 함수형 프로그래밍 (lambda, map, filter)\n",
    "    1.2 시간 관련 함수\n",
    "2. 업비트 라이브러리 사용법\n",
    "    2.0 업비트 API Key/Secret 발급 방법 (https://m.post.naver.com/viewer/postView.nhn?volumeNo=16270764&memberNo=40921089)\n",
    "    2.1 업비트 API 기본 사용법\n",
    "    2.2 주문시 가격 자리수 맞추기\n",
    "    2.3 Bid/Ask (구매/판매)\n",
    "    2.4 Dump (Asks all markets)\n",
    "3. 변동성 돌파 전략\n",
    "    3.1 전체 플로우\n",
    "        - 매수 조건 : 0시의 시가 + (k * range)을 넘어 가면 매수\n",
    "        - k = 최근 20일간의 noise ratio 평균\n",
    "        - range = 최근24시간의 고가 - 최근24시간의 저가\n",
    "        - 배팅 비율 = 이평선 스코어 * 2% Rule / 5\n",
    "    3.2 전체 KRW 마켓 발라내기\n",
    "    3.3 성장하는 마켓 발라내기\n",
    "    3.4 각 성장하는 마켓 중 돌파 가격 정하기 (얼마 이상이면 사겠다\n",
    "\n",
    "\n",
    "주의 : 요즘 코인 시장이 좋지 않아서 그대로 돌리면 손실 가능 유의. 대신, 이 전략을 주식 등에 적용 가능하니 연구해보면 좋을 것으로 보입니다."
   ]
  },
  {
   "cell_type": "code",
   "execution_count": null,
   "metadata": {},
   "outputs": [],
   "source": [
    "# 기초1 - map/lambda\n",
    "\n",
    "s = [1, 2, 3, 4]\n",
    "print(list(map(lambda x: x*x, s)))  # 결과를 맞춰보세요"
   ]
  },
  {
   "cell_type": "code",
   "execution_count": null,
   "metadata": {},
   "outputs": [],
   "source": [
    "# 기초2 - map/lambda\n",
    "\n",
    "d = [{'market': 'KRW-BTC'}, {'market': 'KRW-ONT'}]\n",
    "print(list(map(lambda x: x['market'], d))) # 결과를 맞춰보세요"
   ]
  },
  {
   "cell_type": "code",
   "execution_count": null,
   "metadata": {},
   "outputs": [],
   "source": [
    "# 기초3 - filter 사용법\n",
    "\n",
    "d = [{'market': 'KRW-BTC'}, {'market': 'BTC-ONT'}]\n",
    "m = map(lambda x: x['market'], d)\n",
    "print(list(filter(lambda x: x.startswith('KRW'), m))) # 결과를 맞춰보세요"
   ]
  },
  {
   "cell_type": "code",
   "execution_count": null,
   "metadata": {},
   "outputs": [],
   "source": [
    "# 현재 시간 알아내기\n",
    "\n",
    "from pytz import timezone\n",
    "from datetime import datetime\n",
    "\n",
    "t = datetime.now(timezone('Asia/Seoul'))\n",
    "print(t.hour)\n",
    "print(t.minute)"
   ]
  },
  {
   "cell_type": "code",
   "execution_count": null,
   "metadata": {},
   "outputs": [],
   "source": [
    "# 업비트 API 연동 방법\n",
    "\n",
    "from upbitlib.upbit import Upbit\n",
    "import json\n",
    "from pprint import pprint\n",
    "\n",
    "# API 연동은.. https://m.post.naver.com/viewer/postView.nhn?volumeNo=16270764&memberNo=40921089\n",
    "upbit = Upbit('APIKey', 'Secret')"
   ]
  },
  {
   "cell_type": "code",
   "execution_count": null,
   "metadata": {},
   "outputs": [],
   "source": [
    "# 업비트 API 사용 예제 -\n",
    "\n",
    "pprint(json.dumps(upbit.get_markets(), indent=2))  # 코인 목록\n",
    "pprint(json.dumps(upbit.get_candles_daily('KRW-BTC', '', 3), indent=2))  # BTC 가격\n",
    "pprint(upbit.get_accounts())  # 내 계좌 조회"
   ]
  },
  {
   "cell_type": "code",
   "execution_count": null,
   "metadata": {},
   "outputs": [],
   "source": [
    "# 업비트 주문시 가격 절삭 하기\n",
    "\n",
    "def fix_price(price):\n",
    "    _unit = {\n",
    "        1: 0.01,\n",
    "        10**1: 0.1,  # 10원 -> 12.123원 -> 12.1원\n",
    "        10**2: 1,    # 100원 -> 101.34원 -> 101원\n",
    "        10**3: 5,\n",
    "        10**4: 10,\n",
    "        5*10**4: 50,\n",
    "        10**5: 100,\n",
    "        10**6: 500,   # 700_0000원 ->\n",
    "        2*10**6: 1000\n",
    "    }\n",
    "    for p in _unit:\n",
    "        if price > p:\n",
    "            price = (price // _unit[p]) * _unit[p]\n",
    "    return price\n",
    "\n",
    "pprint(fix_price(312000.12345))\n",
    "pprint(fix_price(31312.15))\n",
    "pprint(fix_price(31.1234))"
   ]
  },
  {
   "cell_type": "code",
   "execution_count": null,
   "metadata": {},
   "outputs": [],
   "source": [
    "# 이제 레퍼리움 코인을 530원치 사볼까요?\n",
    "market = 'KRW-RFR'\n",
    "budget = 530\n",
    "ticker = upbit.get_ticker(market) # 레퍼리움의 현재 가격 읽어오기\n",
    "# pprint(ticker)\n",
    "last_price = ticker[0]['trade_price'] * 1.001 # +0.1%\n",
    "\n",
    "result = upbit.place_order(market, 'bid', fix_price(budget/last_price), last_price)\n",
    "pprint(result)"
   ]
  },
  {
   "cell_type": "code",
   "execution_count": null,
   "metadata": {},
   "outputs": [],
   "source": [
    "# 가지고 있는 코인 전부 팔아볼까요?\n",
    "\n",
    "def sell(market, amount):\n",
    "    print(\"sell market = {0} with amount = {1}\".format(market, amount))\n",
    "    # 비어 있는 함수\n",
    "\n",
    "def dump_all():\n",
    "    accounts_list = upbit.get_accounts()\n",
    "    accounts_list = filter(lambda z: z['currency'] != 'KRW', accounts_list)\n",
    "    for wallet in accounts_list:\n",
    "        sell('KRW-{0}'.format(wallet['currency']), wallet['balance'])\n",
    "\n",
    "dump_all()"
   ]
  },
  {
   "cell_type": "markdown",
   "metadata": {},
   "source": [
    "변동성 돌파 전략\n",
    "\n",
    " - 매수 조건 : 0시의 시가 + (k * range)을 넘어 가면 매수\n",
    " - k = 최근 20일간의 noise ratio 평균\n",
    " - range = 최근24시간의 고가 - 최근24시간의 저가\n",
    " - 배팅 비율 = 이평선 스코어 * 2% Rule / 5\n",
    "\n",
    "참고 그림 : https://m.post.naver.com/viewer/postView.nhn?volumeNo=16270764&memberNo=40921089"
   ]
  },
  {
   "cell_type": "code",
   "execution_count": null,
   "metadata": {},
   "outputs": [],
   "source": [
    "# KRW 코인 목록 읽어오기\n",
    "\n",
    "def candidate_coins():\n",
    "    candidate_coin = map(lambda x: x['market'], upbit.get_markets())\n",
    "    return filter(lambda x: x.startswith('KRW'), candidate_coin)\n",
    "\n",
    "#print(\"list of candidate coins\")\n",
    "pprint(list(candidate_coins()))"
   ]
  },
  {
   "cell_type": "code",
   "execution_count": null,
   "metadata": {},
   "outputs": [],
   "source": [
    "# 가격이 오르고 있는 코인만 사기 위해서, 상승 여부를 판단하는 로직\n",
    "\n",
    "def is_growing_market(market):\n",
    "    prices = upbit.get_candles_daily(market, '', 5)\n",
    "    pprint(json.dumps(prices, indent=2))\n",
    "    return prices[0]['trade_price'] > prices[-1]['trade_price']\n",
    "\n",
    "pprint(is_growing_market('KRW-RFR'))"
   ]
  },
  {
   "cell_type": "code",
   "execution_count": null,
   "metadata": {},
   "outputs": [],
   "source": [
    "# 각 코인을 얼마나 투자 해야 하는가?\n",
    "\n",
    "def get_betting_ratio(market):\n",
    "    '''\n",
    "    3일~20일의 18개의 이동 평균선을 계산\n",
    "    이동평균선 스코어 = 각 이동평균선을 넘은 개수/18\n",
    "    e.g., 3일의 이동 평균선 = (1일전 종가 + 2일전 종가 + 3일전 종가)/3\n",
    "          => 만약 현재 가격이 3일의 이동 평균 가격 보다 높으면 score 1/18 더한다\n",
    "    '''\n",
    "    prices = upbit.get_candles_daily(market, '', 21)\n",
    "    score = 0\n",
    "    if len(prices) < 21:\n",
    "        return 0  # 신생 코인은 제외\n",
    "\n",
    "    for period in range(3, 20):\n",
    "        sum_prices = 0\n",
    "        for j in range(0, period):\n",
    "            sum_prices += prices[j+1]['trade_price']\n",
    "\n",
    "        if sum_prices/period < prices[0]['opening_price']:\n",
    "            score += 1/18.0\n",
    "    return score\n",
    "\n",
    "pprint(json.dumps(get_betting_ratio('KRW-BTC'), indent=2))\n",
    "pprint(json.dumps(get_betting_ratio('KRW-RFR'), indent=2))  # 레퍼리움은 불안정 하기 때문에 원래 투자 금액의 1/10\n",
    "pprint(json.dumps(get_betting_ratio('KRW-MFT'), indent=2))  # 메인프레임 코인은 상장한지 20일이 안되서 투자 안함"
   ]
  },
  {
   "cell_type": "code",
   "execution_count": null,
   "metadata": {},
   "outputs": [],
   "source": [
    "# K값은 어떻게 구하나?\n",
    "# range = (종가 - 시작가)\n",
    "# 시작가 + range*k 이상이 되면 산다\n",
    "#  - k = 최근 20일간의 noise ratio 평균\n",
    "\n",
    "def get_k(market):\n",
    "    prices = upbit.get_candles_daily(market, '', 20)[1:]\n",
    "    price_noise = list(map(lambda p: 1 - abs(p['trade_price'] - p['opening_price']) / (p['high_price'] - p['low_price']), prices))\n",
    "    return sum(price_noise) / len(price_noise)\n",
    "\n",
    "print(get_k('KRW-MFT'))\n",
    "print(get_k('KRW-BTC'))"
   ]
  },
  {
   "cell_type": "code",
   "execution_count": null,
   "metadata": {},
   "outputs": [],
   "source": [
    "# 투자할 코인만 골라내기\n",
    "\n",
    "trade_markets = list(candidate_coins())\n",
    "coin_noise = {}\n",
    "coin_betting_ratio = {}\n",
    "\n",
    "# 오래 걸림 주의\n",
    "for market in trade_markets:\n",
    "    coin_noise[market] = get_k(market)\n",
    "    coin_betting_ratio[market] = get_betting_ratio(market)\n",
    "\n",
    "trade_markets = list(filter(lambda m: coin_betting_ratio[m] > 0, trade_markets))\n",
    "pprint(trade_markets)"
   ]
  },
  {
   "cell_type": "code",
   "execution_count": null,
   "metadata": {},
   "outputs": [],
   "source": [
    "# 이제 실제로 돌리기\n",
    "already_buy = {}\n",
    "BETTING_BUDGET = 5000\n",
    "\n",
    "while True:\n",
    "    for market in trade_markets:\n",
    "        if market in already_buy:\n",
    "            continue\n",
    "\n",
    "        candles = upbit.get_candles_daily(market, '', 2)  # Today, Yesterday\n",
    "        _range = candles[1]['high_price'] - candles[1]['low_price']\n",
    "\n",
    "        today_opening = candles[0]['opening_price']\n",
    "        today_current = candles[0]['trade_price']\n",
    "\n",
    "        threshold = _range * coin_noise[market]\n",
    "\n",
    "        over_ratio = today_current / (today_opening + threshold)\n",
    "        if over_ratio > 1.0:\n",
    "            print(market, \"buy now!!! = \", over_ratio, \" budget = \", BETTING_BUDGET * coin_betting_ratio[market])\n",
    "            #buy(market, BETTING_BUDGET * coin_betting_ratio[market])\n",
    "            already_buy[market] = True\n",
    "            # 만약 현재 시가 기준으로 전날 등락폭 대비해서 올랐으면 사자\n",
    "\n",
    "        t = datetime.now(timezone('Asia/Seoul'))\n",
    "        if t.hour == 23 and t.minute > 45:  # 다음날 되기 전에 팔자\n",
    "            dump_all()\n",
    "            #exit(0)\n",
    "    break # 예제를 돌리면 무한으로 돌기 때문에 한번만 실행\n",
    "\n",
    "# crontab -> 0시에 bot.py 를 실행하라"
   ]
  }
 ],
 "metadata": {
  "kernelspec": {
   "display_name": "Python 3",
   "language": "python",
   "name": "python3"
  },
  "language_info": {
   "codemirror_mode": {
    "name": "ipython",
    "version": 3
   },
   "file_extension": ".py",
   "mimetype": "text/x-python",
   "name": "python",
   "nbconvert_exporter": "python",
   "pygments_lexer": "ipython3",
   "version": "3.6.5"
  }
 },
 "nbformat": 4,
 "nbformat_minor": 2
}